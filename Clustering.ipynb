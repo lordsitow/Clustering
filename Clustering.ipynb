{
 "cells": [
  {
   "cell_type": "code",
   "execution_count": 144,
   "metadata": {},
   "outputs": [
    {
     "data": {
      "image/png": "[encoded data removed]",
      "text/plain": [
       "<Figure size 432x288 with 1 Axes>"
      ]
     },
     "metadata": {
      "needs_background": "light"
     },
     "output_type": "display_data"
    },
    {
     "name": "stdout",
     "output_type": "stream",
     "text": [
      "Pass number of clusters: 6\n",
      "[[[-0.6661382509796567, -3.775846212495935], [-1, -4]], [[-2.076413247047583, -2.7818759139613576], [-1, -1]], [[4.42661179164179, -2.400277194746195]], [[2.965247782351412, -3.7201039845137984]], [[3.217428769579328, 3.6446675823274433], [1.1, 2], [1.2, 2.2], [1, 4], [1, 1], [5, 1], [1, 1.1]], [[-3.5491702261706735, -2.8210623302354634], [-5.2, -0.9], [-5.1, -1.1], [-6, 3.1], [-6.2, 3.2], [-6, 2], [-6.2, 2.1], [-5.5, 3.3], [-5.1, -2.1], [-5, -1], [-5, 3]]]\n"
     ]
    },
    {
     "data": {
      "image/png": "[encoded data removed]",
      "text/plain": [
       "<Figure size 432x288 with 1 Axes>"
      ]
     },
     "metadata": {
      "needs_background": "light"
     },
     "output_type": "display_data"
    }
   ],
   "source": [
    "#K-mean clustering\n",
    "import numpy as np\n",
    "import matplotlib.pyplot as plt\n",
    "import math\n",
    "import scipy\n",
    "\n",
    "s = {(1,1), (1,4), (1.1,2), (1,1.1), (1.2, 2.2), \n",
    "    (5,1), (-1,-1), (-1,-4), (-5.1, -2.1), \n",
    "    (-5.2,-0.9), (-5.1, -1.1), (-5,-1), (-6, 2),\n",
    "    (-6.2, 2.1), (-5, 3), (-6, 3.1), (-6.2, 3.2),\n",
    "    (-5.5, 3.3)}\n",
    "\n",
    "s = [list(x) for x in s]\n",
    "\n",
    "x = [x[0] for x in S]\n",
    "y = [x[1] for x in S]\n",
    "plt.plot(x, y, 'o')\n",
    "plt.show()\n",
    "k = input(\"Pass number of clusters: \")\n",
    "\n",
    "clusters = []\n",
    "for i in range(int(k)):\n",
    "    clusters.append([[((np.random.rand()*1000)%np.amax(x))*2 - np.amax(x), \n",
    "                     ((np.random.rand()*1000)%np.amax(y))*2 - np.amax(y)]])\n",
    "\n",
    "\n",
    "centroids = []\n",
    "for i in range(int(k)):\n",
    "    centroids.append(clusters[i][0])\n",
    "\n",
    "\n",
    "\n",
    "for i in s:\n",
    "    temp = 1000\n",
    "    ii = 0\n",
    "    intex = 0\n",
    "    for j in centroids:\n",
    "        if(temp>scipy.spatial.distance.euclidean(i, j)):\n",
    "            temp = scipy.spatial.distance.euclidean(i, j)\n",
    "            index = ii\n",
    "        ii += 1\n",
    "    \n",
    "    clusters[index].append(i)\n",
    "    \n",
    "print(clusters)\n",
    "\n",
    "for i in range(int(k)):\n",
    "    plt.plot([x[0] for x in clusters[i]], [x[1] for x in clusters[i]], '*')\n",
    "\n",
    "plt.show()\n"
   ]
  },
  {
   "cell_type": "markdown",
   "metadata": {},
   "source": []
  },
  {
   "cell_type": "code",
   "execution_count": 143,
   "metadata": {},
   "outputs": [
    {
     "name": "stdout",
     "output_type": "stream",
     "text": [
      "Length of clusters for k = 2 and centroids ['gained', 'Babylon']\n",
      "12105\n",
      "530\n",
      "Length of clusters for k = 3 and centroids ['heron', 'Besides', 'tossing']\n",
      "10039\n",
      "1711\n",
      "886\n",
      "Length of clusters for k = 5 and centroids ['crowded', 'Uzal', 'stores', 'coast', 'ivory']\n",
      "2182\n",
      "5366\n",
      "2698\n",
      "1583\n",
      "809\n"
     ]
    }
   ],
   "source": [
    "#clustering\n",
    "import numpy as np\n",
    "from nltk.book import text1, text2, text3\n",
    "import nltk\n",
    "\n",
    "s = {s for s in text1.tokens if len(s)<8}|{s for s in text2.tokens if len(s)<8}|{s for s in text3.tokens if len(s)<8}\n",
    "s = list(s)\n",
    "\n",
    "\n",
    "l = [2,3,5]\n",
    "\n",
    "for k in l:\n",
    "    centroids = []\n",
    "    for i in range(int(k)):\n",
    "        centroids.append(s[round(np.random.rand()*len(s))-1])\n",
    "\n",
    "    clusters = [[x] for x in centroids]\n",
    "\n",
    "    for i in s:\n",
    "        index = 0\n",
    "        ii = 0\n",
    "        temp = 1000\n",
    "        for j in centroids:\n",
    "            if(temp > nltk.edit_distance(i, j)):\n",
    "                index = ii\n",
    "                temp = nltk.edit_distance(i, j)\n",
    "            ii += 1\n",
    "    \n",
    "        clusters[index].append(i)\n",
    "    print(\"Length of clusters for k = {} and centroids {}\".format(k, centroids))\n",
    "    for i in clusters:\n",
    "        print(len(i))"
   ]
  },
  {
   "cell_type": "code",
   "execution_count": 123,
   "metadata": {},
   "outputs": [
    {
     "name": "stderr",
     "output_type": "stream",
     "text": [
      "[nltk_data] Downloading package treebank to\n",
      "[nltk_data]     C:\\Users\\Arkadiusz\\AppData\\Roaming\\nltk_data...\n",
      "[nltk_data]   Unzipping corpora\\treebank.zip.\n"
     ]
    },
    {
     "data": {
      "text/plain": [
       "True"
      ]
     },
     "execution_count": 123,
     "metadata": {},
     "output_type": "execute_result"
    }
   ],
   "source": [
    "import nltk\n",
    "nltk.download('treebank')"
   ]
  },
  {
   "cell_type": "code",
   "execution_count": null,
   "metadata": {},
   "outputs": [],
   "source": []
  }
 ],
 "metadata": {
  "kernelspec": {
   "display_name": "Python 3",
   "language": "python",
   "name": "python3"
  },
  "language_info": {
   "codemirror_mode": {
    "name": "ipython",
    "version": 3
   },
   "file_extension": ".py",
   "mimetype": "text/x-python",
   "name": "python",
   "nbconvert_exporter": "python",
   "pygments_lexer": "ipython3",
   "version": "3.7.1"
  }
 },
 "nbformat": 4,
 "nbformat_minor": 2
}
